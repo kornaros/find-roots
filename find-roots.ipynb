from sage.all import *
from IPython.display import display, HTML
from ipywidgets import interact, input_box
from sage.misc.latex import LatexExpr

x = var('x')
e = exp(1)

def format_expr(expr):
    s = latex(expr)
    if any(token in s for token in [r'+', r'-', r'\cdot', r'\,', r'\frac']):
        s = s.replace(r'\,', ' ')
        return f"\\left({s}\\right)"
    else:
        return s

title_html = """
<h2 style="font-family: Arial; font-weight: bold; font-size: 24px;">
    Μελέτη της Δευτεροβάθμιας εξίσωσης
</h2>
"""

display(HTML(title_html))

@interact
def solve_quadratic(
    a_str = input_box('1', label='a', type=str),
    b_str = input_box('1', label='b', type=str),
    c_str = input_box('1', label='c', type=str)
):
    try:
        a = SR(a_str)
        b = SR(b_str)
        c = SR(c_str)

        a_val = a.n()
        b_val = b.n()
        c_val = c.n()

        if not (-10 <= a_val <= 10 and -10 <= b_val <= 10 and -10 <= c_val <= 10):
            display(HTML("<span style='color:red'>Οι τιμές πρέπει να είναι μεταξύ -10 και 10.</span>"))
            return

        eq = a*x^2 + b*x + c == 0
        Delta = b^2 - 4*a*c
        Delta_val = Delta.n()

        display(LatexExpr(r"\text{Λύνουμε την εξίσωση:} \quad %s x^2 + %s x + %s = 0" % (format_expr(a), format_expr(b), format_expr(c))))
        display(LatexExpr(r"\Delta = b^2 - 4ac = %s" % latex(Delta)))

        solutions = solve(eq, x)
        plot1 = plot(a*x^2 + b*x + c, (x, -10, 10), ymin=-10, ymax=10, color='blue', thickness=2)

        if Delta_val > 0:
            roots = [sol.rhs() for sol in solutions]
            for r in roots:
                approx = r.n(digits=3)
                plot1 += point((r.n(), 0), size=30, color='green')
            root_latex = ",\\quad ".join([latex(r) for r in roots])
            display(LatexExpr(r"\textcolor{green}{\text{Πραγματικές ρίζες: }} " + root_latex))

        elif Delta_val == 0:
            r = solutions[0].rhs()
            plot1 += point((r.n(), 0), size=30, color='green')
            display(LatexExpr(r"\textcolor{green}{\text{Διπλή ρίζα: }} " + latex(r)))

        else:
            root_latex = ",\\quad ".join([latex(sol.rhs()) for sol in solutions])
            display(LatexExpr(r"\textcolor{red}{\text{Μη πραγματικές ρίζες: }} " + root_latex))

        display(plot1)

    except Exception as e:
        display(HTML("<span style='color:red'>Σφάλμα στην είσοδο: παρακαλώ συμπληρώστε σωστά τον μαθηματικό τύπο.</span>"))
